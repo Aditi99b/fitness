{
 "cells": [
  {
   "cell_type": "markdown",
   "metadata": {},
   "source": [
    "does this work idk\n",
    "what is going on."
   ]
  }
 ],
 "metadata": {
  "language_info": {
   "name": "python"
  }
 },
 "nbformat": 4,
 "nbformat_minor": 2
}

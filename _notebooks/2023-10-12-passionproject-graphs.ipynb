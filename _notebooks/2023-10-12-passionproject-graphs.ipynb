{
 "cells": [
  {
   "cell_type": "markdown",
   "metadata": {},
   "source": [
    "---\n",
    "layout: post\n",
    "title: Graphs\n",
    "description: Visual representation of survey data\n",
    "courses: { compsci: {week: 8} }\n",
    "type: tangibles\n",
    "permalink: /passionproject/input-data\n",
    "comments: true\n",
    "---"
   ]
  }
 ],
 "metadata": {
  "language_info": {
   "name": "python"
  }
 },
 "nbformat": 4,
 "nbformat_minor": 2
}

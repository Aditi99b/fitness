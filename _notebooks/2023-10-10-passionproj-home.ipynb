{
 "cells": [
  {
   "cell_type": "markdown",
   "metadata": {},
   "source": [
    "---\n",
    "layout: post\n",
    "title: Passion Project\n",
    "description: The branches of our passion project\n",
    "courses: { compsci: {week: 7} }\n",
    "type: tangibles\n",
    "permalink: /passionproject/home\n",
    "comments: true\n",
    "---"
   ]
  },
  {
   "cell_type": "markdown",
   "metadata": {
    "vscode": {
     "languageId": "plaintext"
    }
   },
   "source": [
    "{% include passionproj.html %}"
   ]
  }
 ],
 "metadata": {
  "language_info": {
   "name": "python"
  }
 },
 "nbformat": 4,
 "nbformat_minor": 2
}
